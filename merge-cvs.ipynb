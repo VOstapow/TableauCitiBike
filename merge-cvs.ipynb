{
 "cells": [
  {
   "cell_type": "code",
   "execution_count": null,
   "id": "24cb4c22",
   "metadata": {},
   "outputs": [],
   "source": [
    "import pandas as pd"
   ]
  },
  {
   "cell_type": "code",
   "execution_count": null,
   "id": "d1ac46f1",
   "metadata": {},
   "outputs": [],
   "source": [
    "# Load the four CSV files\n",
    "df1 = pd.read_csv('201901-citibike-tripdata.csv')\n",
    "df2 = pd.read_csv('201902-citibike-tripdata.csv')\n",
    "df3 = pd.read_csv('201903-citibike-tripdata.csv')\n",
    "df4 = pd.read_csv('201904-citibike-tripdata.csv')\n",
    "df5 = pd.read_csv('201905-citibike-tripdata.csv')\n",
    "\n",
    "# Concatenate the four dataframes\n",
    "combined_df = pd.concat([df1, df2, df3, df4, df5])\n",
    "\n",
    "# Save the combined data to a new CSV file\n",
    "combined_df.to_csv('combined_citibike.csv', index=False)"
   ]
  }
 ],
 "metadata": {
  "kernelspec": {
   "display_name": "Python 3 (ipykernel)",
   "language": "python",
   "name": "python3"
  },
  "language_info": {
   "codemirror_mode": {
    "name": "ipython",
    "version": 3
   },
   "file_extension": ".py",
   "mimetype": "text/x-python",
   "name": "python",
   "nbconvert_exporter": "python",
   "pygments_lexer": "ipython3",
   "version": "3.9.12"
  }
 },
 "nbformat": 4,
 "nbformat_minor": 5
}
